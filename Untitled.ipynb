{
 "cells": [
  {
   "cell_type": "code",
   "execution_count": 35,
   "id": "58589c54-1600-40db-b78a-4a87e301ecc4",
   "metadata": {},
   "outputs": [
    {
     "name": "stdout",
     "output_type": "stream",
     "text": [
      "[[80, 2780]]\n",
      "[[82, 2781]]\n"
     ]
    }
   ],
   "source": [
    "import mdtraj as md\n",
    "\n",
    "t = md.load('traj.dcd', top='parm.prmtop')\n",
    "#pair of atoms in distances numbering from zero\n",
    "pairs = [[[80,2780]], [[82, 2781]], [[2010,83]]]\n",
    "\n",
    "#compute the distances between pairs\n",
    "all_distances = []\n",
    "for pair in pairs:\n",
    "    all_distances.append(md.compute_distances(t, pair)*10)\n",
    "\n",
    "\n",
    "#Save the distances to a file\n",
    "f = open('distances.dat', 'w')\n",
    "for i in range(t.n_frames):\n",
    "    for j in range(len(all_distances)):\n",
    "        f.write(\"{:<10f} \".format(all_distances[j][i][0]))\n",
    "    f.write('\\n')\n",
    "f.close()"
   ]
  },
  {
   "cell_type": "code",
   "execution_count": 32,
   "id": "406f2e30-7dab-408e-b7ba-834400712e14",
   "metadata": {},
   "outputs": [],
   "source": []
  },
  {
   "cell_type": "code",
   "execution_count": null,
   "id": "fe034bae-704b-4ef6-a32a-fe5dc68303d9",
   "metadata": {},
   "outputs": [],
   "source": []
  }
 ],
 "metadata": {
  "kernelspec": {
   "display_name": "Python 3 (ipykernel)",
   "language": "python",
   "name": "python3"
  },
  "language_info": {
   "codemirror_mode": {
    "name": "ipython",
    "version": 3
   },
   "file_extension": ".py",
   "mimetype": "text/x-python",
   "name": "python",
   "nbconvert_exporter": "python",
   "pygments_lexer": "ipython3",
   "version": "3.8.12"
  }
 },
 "nbformat": 4,
 "nbformat_minor": 5
}
