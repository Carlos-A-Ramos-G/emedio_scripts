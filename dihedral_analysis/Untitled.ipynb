{
 "cells": [
  {
   "cell_type": "code",
   "execution_count": 75,
   "id": "98db12a6-884a-4f1d-a607-dafd9cfd552a",
   "metadata": {},
   "outputs": [],
   "source": [
    "from matplotlib import pyplot as plt\n",
    "import pandas as pd\n",
    "\n",
    "def angle_ploter(angle_file):\n",
    "    phi_psi = pd.read_csv(angle_file, delim_whitespace=True)\n",
    "    angles = [phi_psi.columns]\n",
    "    plots = len(angles[0])\n",
    "    if plots < 6 :\n",
    "        x , y = 1, 5\n",
    "    elif plots >=6 and plots < 13:\n",
    "        x, y = 2, 6\n",
    "    else:\n",
    "        x , y = 3 , 10\n",
    "    ax = plt.figure(figsize=(20,8))\n",
    "    ax = plt.title(f'{phi_psi}')\n",
    "    for i in range(plots):\n",
    "        plt.subplot(x, y, i+1)\n",
    "        plt.title(f'{angle_file[0:3]} {angles[0][i]}')\n",
    "        plt.plot(phi_psi[angles[0][i]])\n",
    "    plt.tight_layout()\n",
    "    plt.show()\n",
    "\n",
    "angle_ploter(input(\"file to plot 'phi.txt or psi.txt'> \"))"
   ]
  },
  {
   "cell_type": "code",
   "execution_count": null,
   "id": "86de726f-fe6b-4ef4-8252-513f687aacda",
   "metadata": {},
   "outputs": [],
   "source": []
  }
 ],
 "metadata": {
  "kernelspec": {
   "display_name": "Python 3 (ipykernel)",
   "language": "python",
   "name": "python3"
  },
  "language_info": {
   "codemirror_mode": {
    "name": "ipython",
    "version": 3
   },
   "file_extension": ".py",
   "mimetype": "text/x-python",
   "name": "python",
   "nbconvert_exporter": "python",
   "pygments_lexer": "ipython3",
   "version": "3.8.12"
  }
 },
 "nbformat": 4,
 "nbformat_minor": 5
}
