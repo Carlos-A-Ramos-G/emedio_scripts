{
 "cells": [
  {
   "cell_type": "code",
   "execution_count": 75,
   "id": "98db12a6-884a-4f1d-a607-dafd9cfd552a",
   "metadata": {},
   "outputs": [],
   "source": [
    "from matplotlib import pyplot as plt\n",
    "import pandas as pd\n",
    "\n",
    "def angle_ploter(angle_file):\n",
    "    phi_psi = pd.read_csv(angle_file, delim_whitespace=True)\n",
    "    angles = [phi_psi.columns]\n",
    "    plots = len(angles[0])\n",
    "    if plots < 6 :\n",
    "        x , y = 1, 5\n",
    "    elif plots >=6 and plots < 13:\n",
    "        x, y = 2, 6\n",
    "    else:\n",
    "        x , y = 3 , 10\n",
    "    ax = plt.figure(figsize=(20,8))\n",
    "    ax = plt.title(f'{phi_psi}')\n",
    "    for i in range(plots):\n",
    "        plt.subplot(x, y, i+1)\n",
    "        plt.title(f'{angle_file[0:3]} {angles[0][i]}')\n",
    "        plt.plot(phi_psi[angles[0][i]])\n",
    "    plt.tight_layout()\n",
    "    plt.show()\n",
    "\n",
    "angle_ploter(input(\"file to plot 'phi.txt or psi.txt'> \"))"
   ]
  },
  {
   "cell_type": "code",
   "execution_count": 5,
   "id": "0031ea37-2979-4a00-b648-d0d69ebdd4e1",
   "metadata": {},
   "outputs": [],
   "source": [
    "import mdtraj as md\n",
    "import numpy as np"
   ]
  },
  {
   "cell_type": "code",
   "execution_count": 9,
   "id": "3e92dfa2-864d-498d-8a76-2e53c05b64d3",
   "metadata": {},
   "outputs": [],
   "source": [
    "RES_INI = 166#int(input('ResIni: >'))\n",
    "RES_FIN = 176#int(input('ResFin: >'))\n",
    "pdb = '1YPI'\n",
    "traj = md.load_pdb(f'{pdb}.pdb')\n",
    "\n",
    "psi = md.compute_psi(traj)\n",
    "\n",
    "resids = np.linspace(RES_INI, RES_FIN, RES_FIN - RES_INI + 1, dtype = 'int')\n",
    "psi_interest = psi[1][:,RES_INI-2:RES_FIN-1]\n",
    "psi_interest = psi_interest/np.pi*180\n",
    "\n",
    "f = open(f'{pdb}_psi.txt', \"w\")\n",
    "\n",
    "for res in resids:\n",
    "    f.write(\"{:<10d} \".format(res))\n",
    "f.write(\"\\n\")\n",
    "\n",
    "for i in range(traj.n_frames):\n",
    "    for j in range(len(resids)):\n",
    "        f.write(\"{:<10.4f} \".format(psi_interest[i,j]))\n",
    "    f.write(\"\\n\")\n",
    "f.close()\n",
    "\n",
    "phi = md.compute_phi(traj)\n",
    "\n",
    "phi_interest = phi[1][:,RES_INI-2:RES_FIN-1]\n",
    "phi_interest = phi_interest/np.pi*180\n",
    "\n",
    "h = open(f'{pdb}_phi.txt', \"w\")\n",
    "\n",
    "for res in resids:\n",
    "    h.write(\"{:<10d} \".format(res))\n",
    "h.write(\"\\n\")\n",
    "\n",
    "for i in range(traj.n_frames):\n",
    "    for j in range(len(resids)):\n",
    "        h.write(\"{:<10.4f} \".format(phi_interest[i,j]))\n",
    "    h.write(\"\\n\")\n",
    "    h.close()\n",
    "    "
   ]
  },
  {
   "cell_type": "code",
   "execution_count": null,
   "id": "0533d9f5-9719-4c8f-8dbc-4ed1011056f4",
   "metadata": {},
   "outputs": [],
   "source": []
  },
  {
   "cell_type": "code",
   "execution_count": null,
   "id": "6c6e68e6-8270-4bee-a3d7-ddf7e9cb852e",
   "metadata": {},
   "outputs": [],
   "source": []
  }
 ],
 "metadata": {
  "kernelspec": {
   "display_name": "Python 3 (ipykernel)",
   "language": "python",
   "name": "python3"
  },
  "language_info": {
   "codemirror_mode": {
    "name": "ipython",
    "version": 3
   },
   "file_extension": ".py",
   "mimetype": "text/x-python",
   "name": "python",
   "nbconvert_exporter": "python",
   "pygments_lexer": "ipython3",
   "version": "3.8.13"
  }
 },
 "nbformat": 4,
 "nbformat_minor": 5
}
