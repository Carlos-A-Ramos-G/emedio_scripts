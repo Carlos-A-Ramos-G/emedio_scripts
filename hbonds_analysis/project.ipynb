{
 "cells": [
  {
   "cell_type": "code",
   "execution_count": 140,
   "id": "24857ab2-fbbe-40c6-a9eb-6f43bda95040",
   "metadata": {},
   "outputs": [],
   "source": [
    "#!/usr/bin/env python\n",
    "import pandas as pd\n",
    "import csv\n",
    "import matplotlib.pyplot as plt\n",
    "import seaborn as sns\n",
    "\n",
    "def sorting(index):\n",
    "    return [int(resname[4:]) for resname in index]\n",
    "\n",
    "def normalize_df_column(df, col=\"Frac\"):\n",
    "    df[col] = (df[col] - df[col].min()) / (df[col].max() - df[col].min())\n",
    "    return df"
   ]
  },
  {
   "cell_type": "code",
   "execution_count": 212,
   "id": "61ceaf95-1306-4501-997d-57fca70f3898",
   "metadata": {},
   "outputs": [],
   "source": [
    "def raw_df_hbonds(data, R1, R2):\n",
    "    \"\"\"data is the hbonds analysis output file from cpptraj \n",
    "    R1 an R2 are the regions selected to include in the hbond analysis. \n",
    "    This function will return df_hb_data, which is a dataframe that \n",
    "    includes the interactions as donor and acceptor of every residue \n",
    "    in the regions R1 and R2.\n",
    "    \"\"\"\n",
    "    hb = pd.read_csv(data, delimiter=r\"\\s+\")\n",
    "#    hb = hb[hb.Frac > 0.05] #can be commented to plot also weakest interactions\n",
    "    R1_as_acc = hb.rename(columns = {\"#Acceptor\": R1, \"Donor\": R2})\n",
    "    R2_as_acc = hb.rename(columns = {\"Donor\": R1, \"#Acceptor\": R2})\n",
    "    df_hb_data = pd.concat([R1_as_acc, R2_as_acc])\n",
    "    df_hb_data.reset_index(drop=True, inplace=True)\n",
    "    return df_hb_data\n",
    "\n",
    "def residue_column_formating(df, col):\n",
    "    res_num = lambda row: row[col][:3] + ' ' + row[col][4:].split('@',1)[0]\n",
    "    num = lambda row: int(row[col][4:].split('@',1)[0])\n",
    "    df[col.upper()] = df.apply(res_num, axis=1)\n",
    "    df[f\"{col} resid\"] = df.apply(num, axis=1)\n",
    "    return df.drop(col, axis=1)\n",
    "\n",
    "def df_agregation(df, reg1, reg2, col='Frac'):\n",
    "    df = df.groupby([reg1, reg2])[col].sum().reset_index()\n",
    "    df = normalize_df_column(df)\n",
    "    df = df.pivot_table(columns = reg1, index = reg2, values=col)\n",
    "    df = df.fillna(0)\n",
    "    df = df.sort_index(axis=0, key=sorting)\n",
    "    df = df.sort_index(axis=1, key=sorting)\n",
    "    return df"
   ]
  },
  {
   "cell_type": "code",
   "execution_count": 228,
   "id": "76afc040-dae8-4cd2-a904-71904a066641",
   "metadata": {},
   "outputs": [],
   "source": [
    "def hbonds_matrix(data, res_i_r1, res_f_r1, resid_mask, selfinteracting, R1='substrate', R2='protein', col='Frac'):\n",
    "    \n",
    "    \"\"\"data is the cpptraj output file\n",
    "    R1 and R2 are the names regions selected to include in the hbond analysis.\n",
    "    They are arbitrary names, doesn't carry any kind of information about the system.\n",
    "    res_i_r1 and res_f_ri are the first and last residue in the region 1, the one \n",
    "    that will be ploted in the x axys.\n",
    "    if selfinteracting == 'yes', the residues in the x axis will appear in the y axis\n",
    "    also in order to show how much they are interacting between them.\n",
    "    this function returns the hbonds matrix normalized to be ploted\"\"\"\n",
    "    \n",
    "    df = raw_df_hbonds(data, R1, R2)\n",
    "    df = residue_column_formating(df, R1)\n",
    "    df = residue_column_formating(df, R2)\n",
    "    resid_mask = resid_mask\n",
    "    reg1_res = [res for res in range(res_i_r1, res_f_r1 + 1)]\n",
    "    \n",
    "    if selfinteracting == 'yes':\n",
    "        reg2_res = resid_mask\n",
    "        reg1_res = [res for res in range(res_i_r1, res_f_r1 + 1)]\n",
    "        matrix = df[df[f'{R1} resid'].isin(reg1_res)]\n",
    "        return df_agregation(matrix, R1.upper(), R2.upper())\n",
    "    else:\n",
    "        reg2_res = [res for res in resid_mask if res not in reg1_res]\n",
    "        matrix = df[df[f'{R1} resid'].isin(reg1_res)]\n",
    "        matrix = matrix[matrix[f'{R2} resid'].isin(reg2_res)]\n",
    "        return df_agregation(matrix, R1.upper(), R2.upper())"
   ]
  },
  {
   "cell_type": "code",
   "execution_count": 234,
   "id": "d5bae249-179f-4927-aa8c-0f85e47581d7",
   "metadata": {},
   "outputs": [],
   "source": [
    "def single_plot(cpptraj_out, res_i_r1, res_f_r1, resid_mask, selfinteracting, R1='substrate', R2='protein'):\n",
    "                             \n",
    "    \"\"\"it will create the blue-white heat map with the hbond interactions\"\"\"\n",
    "    df = hbonds_matrix(cpptraj_out, res_i_r1, res_f_r1, resid_mask, selfinteracting, R1, R2)\n",
    "    plt.title('H-Bonds Interactions', fontsize=15)\n",
    "    sns.heatmap(df, cmap='Blues',linewidths=0.1, linecolor='gray', xticklabels=True, yticklabels=True)\n",
    "    \n",
    "def compare_plot(cpptraj_out1, cpptraj_out2, res_i_r1, res_f_r1, resid_mask, selfinteracting, R1='substrate', R2='protein'):\n",
    "    df1 = hbonds_matrix(cpptraj_out1, res_i_r1, res_f_r1, resid_mask, selfinteracting, R1, R2)\n",
    "    df2 = hbonds_matrix(cpptraj_out2, res_i_r1, res_f_r1, resid_mask, selfinteracting, R1, R2)\n",
    "    dif = (df1 - df2).fillna(0)\n",
    "    \n",
    "    plt.subplot(1,3,1)\n",
    "    plt.title('Interactions traj1', fontsize=15)\n",
    "    sns.heatmap(df1, cmap='Blues',linewidths=0.1, linecolor='gray', xticklabels=True, yticklabels=True) \n",
    "    \n",
    "    plt.subplot(1,3,2)\n",
    "    plt.title('Interactions traj2', fontsize=15)\n",
    "    sns.heatmap(df2, cmap='Blues',linewidths=0.1, linecolor='gray', xticklabels=True, yticklabels=True) \n",
    "\n",
    "    plt.subplot(1,3,3)\n",
    "    plt.title('Interactions traj1 - traj2', fontsize=15)\n",
    "    cmap = sns.diverging_palette(20,250, as_cmap=True)\n",
    "    dif = dif.sort_index(axis=0, key=sorting)\n",
    "    dif = dif.sort_index(axis=1, key=sorting)\n",
    "    sns.heatmap(dif,cmap=cmap,linewidths=0.1, center =0.0,linecolor='gray', xticklabels=True, yticklabels=True)"
   ]
  },
  {
   "cell_type": "code",
   "execution_count": 237,
   "id": "cd3a60ff-9028-4ed9-b446-b0d7cda3e992",
   "metadata": {},
   "outputs": [
    {
     "data": {
      "image/png": "[encoded data removed]",
      "text/plain": [
       "<Figure size 432x288 with 2 Axes>"
      ]
     },
     "metadata": {
      "needs_background": "light"
     },
     "output_type": "display_data"
    }
   ],
   "source": [
    "data = 'avg.out'\n",
    "R1 = 'substrate' #input('Enter a string for the region/molecule to plot in the X axys > ')#\n",
    "res_i_r1 = 1 #int(input(f'What is the resid of the FIRST residue in {region_one} > '))#\n",
    "res_f_r1 = 10 #int(input(f'What is the resid of the LAST residue in {region_one} > '))#\n",
    "R2 = 'protein'\n",
    "resid_mask = range(1,279)#range(int(input(\"first residue in RESIDMASK in hbonds_cpptraj.sh\")), int(input(\"last residue in RESIDMASK in hbonds_cpptraj.sh\")) + 1)\n",
    "selfinteracting = 'no'#input(f'the interactions of {region_one} with himself has to be also ploted? yes/no > ')\n",
    "compare = 'no'#input('Do you want to compare this hbond analysis with another trajectory? yes/no > ')\n",
    "\n",
    "if compare == 'yes':\n",
    "    cpptraj_out2 = 'avg.out'#input('Enter the path for the cpptraj.out file for the SECOND trajectory to compare > ')#\"all_avg_traj1.out\"\n",
    "    plt.figure(figsize=(15,8))\n",
    "    compare_plot(cpptraj_out1,cpptraj_out2, res_i_r1, res_f_r1, resid_mask, selfinteracting, R1, R2)\n",
    "    plt.tight_layout()\n",
    "else:\n",
    "    single_plot(data, res_i_r1, res_f_r1, resid_mask, selfinteracting, R1, R2)\n",
    "\n",
    "plt.show()"
   ]
  },
  {
   "cell_type": "code",
   "execution_count": null,
   "id": "6fd69352-4f32-45f9-8137-f6ddff84447a",
   "metadata": {},
   "outputs": [],
   "source": []
  }
 ],
 "metadata": {
  "kernelspec": {
   "display_name": "Python 3 (ipykernel)",
   "language": "python",
   "name": "python3"
  },
  "language_info": {
   "codemirror_mode": {
    "name": "ipython",
    "version": 3
   },
   "file_extension": ".py",
   "mimetype": "text/x-python",
   "name": "python",
   "nbconvert_exporter": "python",
   "pygments_lexer": "ipython3",
   "version": "3.8.13"
  }
 },
 "nbformat": 4,
 "nbformat_minor": 5
}
